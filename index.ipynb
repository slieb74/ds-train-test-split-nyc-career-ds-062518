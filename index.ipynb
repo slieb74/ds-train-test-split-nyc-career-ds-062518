{
 "cells": [
  {
   "cell_type": "markdown",
   "metadata": {},
   "source": [
    "# Train Test Split <a id=\"toc\"></a>\n",
    "\n",
    "Thus far we've simply been fitting models to data and calculating the error between various models and the actual data. This can lead to various problems such as overfitting where we overtune our models to these specific data points and fail to disern more generalizable patterns that will apply to future cases. \n",
    "\n",
    "Let's look at a few examples of how we could modify some of our algorithms to overfit data:\n",
    "\n",
    "### Introduction  \n",
    "\n",
    "Now that you've seen some basic linear regression models it's time to discuss further how to better tune these models. As you saw, we usually begin with an error or loss function for which we'll apply an optimization algorithm such as gradient descent. We then apply this optimization algorithm to the error function we're trying to minimize and voila, we have an optimized solution! Unfortunately, things aren't quite that simple. \n",
    "\n",
    "### Overfitting and Underfitting\n",
    "Most importantly is the issue of generalization.\n",
    "This is often examined by discussing underfitting and overfitting.\n",
    "![](./images/overfit_underfit.png)\n",
    "\n",
    "Recall our main goal when performing regression: we're attempting to find relationships that can generalize to new cases. Generally, the more data that we have the better off we'll be as we can observe more patterns and relationships within that data. However, some of these patterns and relationships may not generalize well to other cases. "
   ]
  },
  {
   "cell_type": "markdown",
   "metadata": {},
   "source": [
    "## Let's intentionally overfit some data to see this in demonstration.\n",
    "\n",
    "### 1. Import the data and define X and Y."
   ]
  },
  {
   "cell_type": "code",
   "execution_count": 113,
   "metadata": {},
   "outputs": [],
   "source": [
    "import pandas as pd\n",
    "import numpy as np\n",
    "import matplotlib.pyplot as plt\n",
    "%matplotlib inline"
   ]
  },
  {
   "cell_type": "code",
   "execution_count": 114,
   "metadata": {},
   "outputs": [],
   "source": [
    "#Import the Data here.\n",
    "path = './data/' #The subdirectory where the file is stored\n",
    "filename = 'movie_data_detailed.xlsx' #The filename\n",
    "full_path = path + filename #Alternative shortcut\n",
    "\n",
    "df = pd.read_excel(full_path)\n",
    "\n",
    "#Subset the Data into appropriate X and Y features. (X should be multiple features!)\n",
    "X = df[['budget','imdbRating','Metascore', 'imdbVotes']]\n",
    "Y = df.domgross"
   ]
  },
  {
   "cell_type": "code",
   "execution_count": 115,
   "metadata": {},
   "outputs": [
    {
     "data": {
      "text/html": [
       "<div>\n",
       "<style scoped>\n",
       "    .dataframe tbody tr th:only-of-type {\n",
       "        vertical-align: middle;\n",
       "    }\n",
       "\n",
       "    .dataframe tbody tr th {\n",
       "        vertical-align: top;\n",
       "    }\n",
       "\n",
       "    .dataframe thead th {\n",
       "        text-align: right;\n",
       "    }\n",
       "</style>\n",
       "<table border=\"1\" class=\"dataframe\">\n",
       "  <thead>\n",
       "    <tr style=\"text-align: right;\">\n",
       "      <th></th>\n",
       "      <th>budget</th>\n",
       "      <th>domgross</th>\n",
       "      <th>title</th>\n",
       "      <th>Response_Json</th>\n",
       "      <th>Year</th>\n",
       "      <th>imdbRating</th>\n",
       "      <th>Metascore</th>\n",
       "      <th>imdbVotes</th>\n",
       "    </tr>\n",
       "  </thead>\n",
       "  <tbody>\n",
       "    <tr>\n",
       "      <th>0</th>\n",
       "      <td>13000000</td>\n",
       "      <td>25682380</td>\n",
       "      <td>21 &amp;amp; Over</td>\n",
       "      <td>NaN</td>\n",
       "      <td>2008.0</td>\n",
       "      <td>6.8</td>\n",
       "      <td>48.0</td>\n",
       "      <td>206513.0</td>\n",
       "    </tr>\n",
       "    <tr>\n",
       "      <th>1</th>\n",
       "      <td>45658735</td>\n",
       "      <td>13414714</td>\n",
       "      <td>Dredd 3D</td>\n",
       "      <td>NaN</td>\n",
       "      <td>2012.0</td>\n",
       "      <td>NaN</td>\n",
       "      <td>NaN</td>\n",
       "      <td>NaN</td>\n",
       "    </tr>\n",
       "    <tr>\n",
       "      <th>2</th>\n",
       "      <td>20000000</td>\n",
       "      <td>53107035</td>\n",
       "      <td>12 Years a Slave</td>\n",
       "      <td>NaN</td>\n",
       "      <td>2013.0</td>\n",
       "      <td>8.1</td>\n",
       "      <td>96.0</td>\n",
       "      <td>537525.0</td>\n",
       "    </tr>\n",
       "    <tr>\n",
       "      <th>3</th>\n",
       "      <td>61000000</td>\n",
       "      <td>75612460</td>\n",
       "      <td>2 Guns</td>\n",
       "      <td>NaN</td>\n",
       "      <td>2013.0</td>\n",
       "      <td>6.7</td>\n",
       "      <td>55.0</td>\n",
       "      <td>173726.0</td>\n",
       "    </tr>\n",
       "    <tr>\n",
       "      <th>4</th>\n",
       "      <td>40000000</td>\n",
       "      <td>95020213</td>\n",
       "      <td>42</td>\n",
       "      <td>NaN</td>\n",
       "      <td>2013.0</td>\n",
       "      <td>7.5</td>\n",
       "      <td>62.0</td>\n",
       "      <td>74170.0</td>\n",
       "    </tr>\n",
       "  </tbody>\n",
       "</table>\n",
       "</div>"
      ],
      "text/plain": [
       "     budget  domgross             title  Response_Json    Year  imdbRating  \\\n",
       "0  13000000  25682380     21 &amp; Over            NaN  2008.0         6.8   \n",
       "1  45658735  13414714          Dredd 3D            NaN  2012.0         NaN   \n",
       "2  20000000  53107035  12 Years a Slave            NaN  2013.0         8.1   \n",
       "3  61000000  75612460            2 Guns            NaN  2013.0         6.7   \n",
       "4  40000000  95020213                42            NaN  2013.0         7.5   \n",
       "\n",
       "   Metascore  imdbVotes  \n",
       "0       48.0   206513.0  \n",
       "1        NaN        NaN  \n",
       "2       96.0   537525.0  \n",
       "3       55.0   173726.0  \n",
       "4       62.0    74170.0  "
      ]
     },
     "execution_count": 115,
     "metadata": {},
     "output_type": "execute_result"
    }
   ],
   "source": [
    "df.head()"
   ]
  },
  {
   "cell_type": "markdown",
   "metadata": {},
   "source": [
    "### 2. For each feature in X, create several new columns that are powers of that feature. For example, you could take the $budget$ column and produce another column $budget**2$, a third column $budget**3$, a fourth column $budget**4$ and so on. Do this until you have more columns then rows."
   ]
  },
  {
   "cell_type": "code",
   "execution_count": 116,
   "metadata": {},
   "outputs": [
    {
     "name": "stderr",
     "output_type": "stream",
     "text": [
      "/Users/SamLiebman/anaconda3/lib/python3.6/site-packages/ipykernel_launcher.py:4: SettingWithCopyWarning: \n",
      "A value is trying to be set on a copy of a slice from a DataFrame.\n",
      "Try using .loc[row_indexer,col_indexer] = value instead\n",
      "\n",
      "See the caveats in the documentation: http://pandas.pydata.org/pandas-docs/stable/indexing.html#indexing-view-versus-copy\n",
      "  after removing the cwd from sys.path.\n"
     ]
    }
   ],
   "source": [
    "#Create additional features using powers until you have more columns then rows.\n",
    "for col in X.columns:\n",
    "    for i in range(2,9):\n",
    "        X[col + '^' + str(i)] = df[col]**i"
   ]
  },
  {
   "cell_type": "code",
   "execution_count": 117,
   "metadata": {},
   "outputs": [
    {
     "data": {
      "text/html": [
       "<div>\n",
       "<style scoped>\n",
       "    .dataframe tbody tr th:only-of-type {\n",
       "        vertical-align: middle;\n",
       "    }\n",
       "\n",
       "    .dataframe tbody tr th {\n",
       "        vertical-align: top;\n",
       "    }\n",
       "\n",
       "    .dataframe thead th {\n",
       "        text-align: right;\n",
       "    }\n",
       "</style>\n",
       "<table border=\"1\" class=\"dataframe\">\n",
       "  <thead>\n",
       "    <tr style=\"text-align: right;\">\n",
       "      <th></th>\n",
       "      <th>budget</th>\n",
       "      <th>imdbRating</th>\n",
       "      <th>Metascore</th>\n",
       "      <th>imdbVotes</th>\n",
       "      <th>budget^2</th>\n",
       "      <th>budget^3</th>\n",
       "      <th>budget^4</th>\n",
       "      <th>budget^5</th>\n",
       "      <th>budget^6</th>\n",
       "      <th>budget^7</th>\n",
       "      <th>...</th>\n",
       "      <th>Metascore^6</th>\n",
       "      <th>Metascore^7</th>\n",
       "      <th>Metascore^8</th>\n",
       "      <th>imdbVotes^2</th>\n",
       "      <th>imdbVotes^3</th>\n",
       "      <th>imdbVotes^4</th>\n",
       "      <th>imdbVotes^5</th>\n",
       "      <th>imdbVotes^6</th>\n",
       "      <th>imdbVotes^7</th>\n",
       "      <th>imdbVotes^8</th>\n",
       "    </tr>\n",
       "  </thead>\n",
       "  <tbody>\n",
       "    <tr>\n",
       "      <th>0</th>\n",
       "      <td>13000000</td>\n",
       "      <td>6.8</td>\n",
       "      <td>48.0</td>\n",
       "      <td>206513.0</td>\n",
       "      <td>169000000000000</td>\n",
       "      <td>1837455228563357696</td>\n",
       "      <td>7709348267145822208</td>\n",
       "      <td>-2014449779416760320</td>\n",
       "      <td>-695152414046552064</td>\n",
       "      <td>4752128837666471936</td>\n",
       "      <td>...</td>\n",
       "      <td>1.223059e+10</td>\n",
       "      <td>5.870683e+11</td>\n",
       "      <td>2.817928e+13</td>\n",
       "      <td>4.264762e+10</td>\n",
       "      <td>8.807288e+15</td>\n",
       "      <td>1.818819e+21</td>\n",
       "      <td>3.756099e+26</td>\n",
       "      <td>7.756832e+31</td>\n",
       "      <td>1.601887e+37</td>\n",
       "      <td>3.308104e+42</td>\n",
       "    </tr>\n",
       "    <tr>\n",
       "      <th>1</th>\n",
       "      <td>45658735</td>\n",
       "      <td>NaN</td>\n",
       "      <td>NaN</td>\n",
       "      <td>NaN</td>\n",
       "      <td>2084720081800225</td>\n",
       "      <td>482343753509876815</td>\n",
       "      <td>6805692425895418945</td>\n",
       "      <td>-7665914952072728017</td>\n",
       "      <td>-4790055578234441631</td>\n",
       "      <td>2976467425956686863</td>\n",
       "      <td>...</td>\n",
       "      <td>NaN</td>\n",
       "      <td>NaN</td>\n",
       "      <td>NaN</td>\n",
       "      <td>NaN</td>\n",
       "      <td>NaN</td>\n",
       "      <td>NaN</td>\n",
       "      <td>NaN</td>\n",
       "      <td>NaN</td>\n",
       "      <td>NaN</td>\n",
       "      <td>NaN</td>\n",
       "    </tr>\n",
       "    <tr>\n",
       "      <th>2</th>\n",
       "      <td>20000000</td>\n",
       "      <td>8.1</td>\n",
       "      <td>96.0</td>\n",
       "      <td>537525.0</td>\n",
       "      <td>400000000000000</td>\n",
       "      <td>-5886927989945401344</td>\n",
       "      <td>-2139167968544686080</td>\n",
       "      <td>8138564178077024256</td>\n",
       "      <td>-686517468197289984</td>\n",
       "      <td>4971973988617027584</td>\n",
       "      <td>...</td>\n",
       "      <td>7.827578e+11</td>\n",
       "      <td>7.514475e+13</td>\n",
       "      <td>7.213896e+15</td>\n",
       "      <td>2.889331e+11</td>\n",
       "      <td>1.553088e+17</td>\n",
       "      <td>8.348235e+22</td>\n",
       "      <td>4.487385e+28</td>\n",
       "      <td>2.412082e+34</td>\n",
       "      <td>1.296554e+40</td>\n",
       "      <td>6.969303e+45</td>\n",
       "    </tr>\n",
       "    <tr>\n",
       "      <th>3</th>\n",
       "      <td>61000000</td>\n",
       "      <td>6.7</td>\n",
       "      <td>55.0</td>\n",
       "      <td>173726.0</td>\n",
       "      <td>3721000000000000</td>\n",
       "      <td>-6185826996032634880</td>\n",
       "      <td>8180391339607719936</td>\n",
       "      <td>1653973855015796736</td>\n",
       "      <td>4480145463802068992</td>\n",
       "      <td>-9094962272870072320</td>\n",
       "      <td>...</td>\n",
       "      <td>2.768064e+10</td>\n",
       "      <td>1.522435e+12</td>\n",
       "      <td>8.373394e+13</td>\n",
       "      <td>3.018072e+10</td>\n",
       "      <td>5.243176e+15</td>\n",
       "      <td>9.108760e+20</td>\n",
       "      <td>1.582429e+26</td>\n",
       "      <td>2.749090e+31</td>\n",
       "      <td>4.775884e+36</td>\n",
       "      <td>8.296952e+41</td>\n",
       "    </tr>\n",
       "    <tr>\n",
       "      <th>4</th>\n",
       "      <td>40000000</td>\n",
       "      <td>7.5</td>\n",
       "      <td>62.0</td>\n",
       "      <td>74170.0</td>\n",
       "      <td>1600000000000000</td>\n",
       "      <td>8244808301565444096</td>\n",
       "      <td>2666800650704125952</td>\n",
       "      <td>2179636666531053568</td>\n",
       "      <td>-7043629817207455744</td>\n",
       "      <td>-9223372036854775808</td>\n",
       "      <td>...</td>\n",
       "      <td>5.680024e+10</td>\n",
       "      <td>3.521615e+12</td>\n",
       "      <td>2.183401e+14</td>\n",
       "      <td>5.501189e+09</td>\n",
       "      <td>4.080232e+14</td>\n",
       "      <td>3.026308e+19</td>\n",
       "      <td>2.244613e+24</td>\n",
       "      <td>1.664829e+29</td>\n",
       "      <td>1.234804e+34</td>\n",
       "      <td>9.158540e+38</td>\n",
       "    </tr>\n",
       "  </tbody>\n",
       "</table>\n",
       "<p>5 rows × 32 columns</p>\n",
       "</div>"
      ],
      "text/plain": [
       "     budget  imdbRating  Metascore  imdbVotes          budget^2  \\\n",
       "0  13000000         6.8       48.0   206513.0   169000000000000   \n",
       "1  45658735         NaN        NaN        NaN  2084720081800225   \n",
       "2  20000000         8.1       96.0   537525.0   400000000000000   \n",
       "3  61000000         6.7       55.0   173726.0  3721000000000000   \n",
       "4  40000000         7.5       62.0    74170.0  1600000000000000   \n",
       "\n",
       "              budget^3             budget^4             budget^5  \\\n",
       "0  1837455228563357696  7709348267145822208 -2014449779416760320   \n",
       "1   482343753509876815  6805692425895418945 -7665914952072728017   \n",
       "2 -5886927989945401344 -2139167968544686080  8138564178077024256   \n",
       "3 -6185826996032634880  8180391339607719936  1653973855015796736   \n",
       "4  8244808301565444096  2666800650704125952  2179636666531053568   \n",
       "\n",
       "              budget^6             budget^7      ...        Metascore^6  \\\n",
       "0  -695152414046552064  4752128837666471936      ...       1.223059e+10   \n",
       "1 -4790055578234441631  2976467425956686863      ...                NaN   \n",
       "2  -686517468197289984  4971973988617027584      ...       7.827578e+11   \n",
       "3  4480145463802068992 -9094962272870072320      ...       2.768064e+10   \n",
       "4 -7043629817207455744 -9223372036854775808      ...       5.680024e+10   \n",
       "\n",
       "    Metascore^7   Metascore^8   imdbVotes^2   imdbVotes^3   imdbVotes^4  \\\n",
       "0  5.870683e+11  2.817928e+13  4.264762e+10  8.807288e+15  1.818819e+21   \n",
       "1           NaN           NaN           NaN           NaN           NaN   \n",
       "2  7.514475e+13  7.213896e+15  2.889331e+11  1.553088e+17  8.348235e+22   \n",
       "3  1.522435e+12  8.373394e+13  3.018072e+10  5.243176e+15  9.108760e+20   \n",
       "4  3.521615e+12  2.183401e+14  5.501189e+09  4.080232e+14  3.026308e+19   \n",
       "\n",
       "    imdbVotes^5   imdbVotes^6   imdbVotes^7   imdbVotes^8  \n",
       "0  3.756099e+26  7.756832e+31  1.601887e+37  3.308104e+42  \n",
       "1           NaN           NaN           NaN           NaN  \n",
       "2  4.487385e+28  2.412082e+34  1.296554e+40  6.969303e+45  \n",
       "3  1.582429e+26  2.749090e+31  4.775884e+36  8.296952e+41  \n",
       "4  2.244613e+24  1.664829e+29  1.234804e+34  9.158540e+38  \n",
       "\n",
       "[5 rows x 32 columns]"
      ]
     },
     "execution_count": 117,
     "metadata": {},
     "output_type": "execute_result"
    }
   ],
   "source": [
    "X.head()"
   ]
  },
  {
   "cell_type": "markdown",
   "metadata": {},
   "source": [
    "### 3. Use all of your new features for X. Then train a regression model using RSS as your error function and gradient descent to tune your weights. "
   ]
  },
  {
   "cell_type": "code",
   "execution_count": 118,
   "metadata": {},
   "outputs": [],
   "source": [
    "from sklearn.linear_model import LinearRegression"
   ]
  },
  {
   "cell_type": "code",
   "execution_count": 121,
   "metadata": {},
   "outputs": [
    {
     "data": {
      "text/html": [
       "<div>\n",
       "<style scoped>\n",
       "    .dataframe tbody tr th:only-of-type {\n",
       "        vertical-align: middle;\n",
       "    }\n",
       "\n",
       "    .dataframe tbody tr th {\n",
       "        vertical-align: top;\n",
       "    }\n",
       "\n",
       "    .dataframe thead th {\n",
       "        text-align: right;\n",
       "    }\n",
       "</style>\n",
       "<table border=\"1\" class=\"dataframe\">\n",
       "  <thead>\n",
       "    <tr style=\"text-align: right;\">\n",
       "      <th></th>\n",
       "      <th>budget</th>\n",
       "      <th>imdbRating</th>\n",
       "      <th>Metascore</th>\n",
       "      <th>imdbVotes</th>\n",
       "      <th>budget^2</th>\n",
       "      <th>budget^3</th>\n",
       "      <th>budget^4</th>\n",
       "      <th>budget^5</th>\n",
       "      <th>budget^6</th>\n",
       "      <th>budget^7</th>\n",
       "      <th>...</th>\n",
       "      <th>Metascore^6</th>\n",
       "      <th>Metascore^7</th>\n",
       "      <th>Metascore^8</th>\n",
       "      <th>imdbVotes^2</th>\n",
       "      <th>imdbVotes^3</th>\n",
       "      <th>imdbVotes^4</th>\n",
       "      <th>imdbVotes^5</th>\n",
       "      <th>imdbVotes^6</th>\n",
       "      <th>imdbVotes^7</th>\n",
       "      <th>imdbVotes^8</th>\n",
       "    </tr>\n",
       "  </thead>\n",
       "  <tbody>\n",
       "    <tr>\n",
       "      <th>0</th>\n",
       "      <td>0.034169</td>\n",
       "      <td>0.59375</td>\n",
       "      <td>0.294118</td>\n",
       "      <td>0.357377</td>\n",
       "      <td>0.002742</td>\n",
       "      <td>0.911708</td>\n",
       "      <td>0.676558</td>\n",
       "      <td>0.163473</td>\n",
       "      <td>0.040657</td>\n",
       "      <td>0.727652</td>\n",
       "      <td>...</td>\n",
       "      <td>0.015019</td>\n",
       "      <td>0.007634</td>\n",
       "      <td>0.003854</td>\n",
       "      <td>0.146117</td>\n",
       "      <td>0.056640</td>\n",
       "      <td>0.021784</td>\n",
       "      <td>0.008370</td>\n",
       "      <td>0.003216</td>\n",
       "      <td>1.235495e-03</td>\n",
       "      <td>4.746678e-04</td>\n",
       "    </tr>\n",
       "    <tr>\n",
       "      <th>1</th>\n",
       "      <td>0.182956</td>\n",
       "      <td>0.00000</td>\n",
       "      <td>0.000000</td>\n",
       "      <td>0.000000</td>\n",
       "      <td>0.040606</td>\n",
       "      <td>0.991723</td>\n",
       "      <td>0.732602</td>\n",
       "      <td>0.483374</td>\n",
       "      <td>0.280154</td>\n",
       "      <td>0.829417</td>\n",
       "      <td>...</td>\n",
       "      <td>0.000000</td>\n",
       "      <td>0.000000</td>\n",
       "      <td>0.000000</td>\n",
       "      <td>0.000000</td>\n",
       "      <td>0.000000</td>\n",
       "      <td>0.000000</td>\n",
       "      <td>0.000000</td>\n",
       "      <td>0.000000</td>\n",
       "      <td>0.000000e+00</td>\n",
       "      <td>0.000000e+00</td>\n",
       "    </tr>\n",
       "    <tr>\n",
       "      <th>2</th>\n",
       "      <td>0.066059</td>\n",
       "      <td>1.00000</td>\n",
       "      <td>1.000000</td>\n",
       "      <td>1.000000</td>\n",
       "      <td>0.007308</td>\n",
       "      <td>0.278593</td>\n",
       "      <td>0.143302</td>\n",
       "      <td>0.632940</td>\n",
       "      <td>0.040152</td>\n",
       "      <td>0.715053</td>\n",
       "      <td>...</td>\n",
       "      <td>1.000000</td>\n",
       "      <td>1.000000</td>\n",
       "      <td>1.000000</td>\n",
       "      <td>1.000000</td>\n",
       "      <td>1.000000</td>\n",
       "      <td>1.000000</td>\n",
       "      <td>1.000000</td>\n",
       "      <td>1.000000</td>\n",
       "      <td>1.000000e+00</td>\n",
       "      <td>1.000000e+00</td>\n",
       "    </tr>\n",
       "    <tr>\n",
       "      <th>3</th>\n",
       "      <td>0.252847</td>\n",
       "      <td>0.56250</td>\n",
       "      <td>0.397059</td>\n",
       "      <td>0.293724</td>\n",
       "      <td>0.072947</td>\n",
       "      <td>0.296241</td>\n",
       "      <td>0.647344</td>\n",
       "      <td>1.000000</td>\n",
       "      <td>0.816859</td>\n",
       "      <td>0.464043</td>\n",
       "      <td>...</td>\n",
       "      <td>0.034769</td>\n",
       "      <td>0.020084</td>\n",
       "      <td>0.011556</td>\n",
       "      <td>0.102894</td>\n",
       "      <td>0.033689</td>\n",
       "      <td>0.010908</td>\n",
       "      <td>0.003526</td>\n",
       "      <td>0.001140</td>\n",
       "      <td>3.683518e-04</td>\n",
       "      <td>1.190499e-04</td>\n",
       "    </tr>\n",
       "    <tr>\n",
       "      <th>4</th>\n",
       "      <td>0.157175</td>\n",
       "      <td>0.81250</td>\n",
       "      <td>0.500000</td>\n",
       "      <td>0.100447</td>\n",
       "      <td>0.031026</td>\n",
       "      <td>0.533378</td>\n",
       "      <td>0.989293</td>\n",
       "      <td>0.970245</td>\n",
       "      <td>0.411958</td>\n",
       "      <td>0.471403</td>\n",
       "      <td>...</td>\n",
       "      <td>0.071993</td>\n",
       "      <td>0.046693</td>\n",
       "      <td>0.030216</td>\n",
       "      <td>0.017329</td>\n",
       "      <td>0.002555</td>\n",
       "      <td>0.000359</td>\n",
       "      <td>0.000050</td>\n",
       "      <td>0.000007</td>\n",
       "      <td>9.521531e-07</td>\n",
       "      <td>1.314034e-07</td>\n",
       "    </tr>\n",
       "  </tbody>\n",
       "</table>\n",
       "<p>5 rows × 32 columns</p>\n",
       "</div>"
      ],
      "text/plain": [
       "     budget  imdbRating  Metascore  imdbVotes  budget^2  budget^3  budget^4  \\\n",
       "0  0.034169     0.59375   0.294118   0.357377  0.002742  0.911708  0.676558   \n",
       "1  0.182956     0.00000   0.000000   0.000000  0.040606  0.991723  0.732602   \n",
       "2  0.066059     1.00000   1.000000   1.000000  0.007308  0.278593  0.143302   \n",
       "3  0.252847     0.56250   0.397059   0.293724  0.072947  0.296241  0.647344   \n",
       "4  0.157175     0.81250   0.500000   0.100447  0.031026  0.533378  0.989293   \n",
       "\n",
       "   budget^5  budget^6  budget^7      ...       Metascore^6  Metascore^7  \\\n",
       "0  0.163473  0.040657  0.727652      ...          0.015019     0.007634   \n",
       "1  0.483374  0.280154  0.829417      ...          0.000000     0.000000   \n",
       "2  0.632940  0.040152  0.715053      ...          1.000000     1.000000   \n",
       "3  1.000000  0.816859  0.464043      ...          0.034769     0.020084   \n",
       "4  0.970245  0.411958  0.471403      ...          0.071993     0.046693   \n",
       "\n",
       "   Metascore^8  imdbVotes^2  imdbVotes^3  imdbVotes^4  imdbVotes^5  \\\n",
       "0     0.003854     0.146117     0.056640     0.021784     0.008370   \n",
       "1     0.000000     0.000000     0.000000     0.000000     0.000000   \n",
       "2     1.000000     1.000000     1.000000     1.000000     1.000000   \n",
       "3     0.011556     0.102894     0.033689     0.010908     0.003526   \n",
       "4     0.030216     0.017329     0.002555     0.000359     0.000050   \n",
       "\n",
       "   imdbVotes^6   imdbVotes^7   imdbVotes^8  \n",
       "0     0.003216  1.235495e-03  4.746678e-04  \n",
       "1     0.000000  0.000000e+00  0.000000e+00  \n",
       "2     1.000000  1.000000e+00  1.000000e+00  \n",
       "3     0.001140  3.683518e-04  1.190499e-04  \n",
       "4     0.000007  9.521531e-07  1.314034e-07  \n",
       "\n",
       "[5 rows x 32 columns]"
      ]
     },
     "execution_count": 121,
     "metadata": {},
     "output_type": "execute_result"
    }
   ],
   "source": [
    "#normalize the data\n",
    "def norm(col):\n",
    "    minimum = col.min()\n",
    "    maximum = col.max()\n",
    "    return (col-minimum)/(maximum-minimum)\n",
    "\n",
    "for col in X.columns:\n",
    "    X[col] = norm(X[col])\n",
    "\n",
    "\n",
    "#fill nas\n",
    "X = X.fillna(value=0)\n",
    "\n",
    "X.head()"
   ]
  },
  {
   "cell_type": "code",
   "execution_count": 122,
   "metadata": {},
   "outputs": [],
   "source": [
    "ols = LinearRegression()\n",
    "model = ols.fit(X,Y)"
   ]
  },
  {
   "cell_type": "code",
   "execution_count": 123,
   "metadata": {},
   "outputs": [
    {
     "data": {
      "text/plain": [
       "array([ 5.53431200e+08,  2.14038816e+13, -7.87815610e+11, -9.54576200e+10,\n",
       "       -3.43694386e+07,  1.24553332e+08, -8.94814620e+07,  1.61438459e+08,\n",
       "       -1.04449176e+08,  1.03508919e+08,  2.32012150e+08, -7.38521373e+13,\n",
       "        6.45148227e+13,  3.78813422e+13, -5.76427566e+13, -4.14806724e+13,\n",
       "        7.51555688e+13, -2.59808508e+13,  5.32597200e+12, -1.50302530e+13,\n",
       "        2.07795123e+13, -1.07040769e+13, -5.80385919e+12,  9.31646101e+12,\n",
       "       -3.09439672e+12,  1.16151171e+12, -6.59450580e+12,  2.06142794e+13,\n",
       "       -3.72437947e+13,  3.86482824e+13, -2.13554127e+13,  4.86446909e+12])"
      ]
     },
     "execution_count": 123,
     "metadata": {},
     "output_type": "execute_result"
    }
   ],
   "source": [
    "model.coef_"
   ]
  },
  {
   "cell_type": "code",
   "execution_count": 124,
   "metadata": {},
   "outputs": [],
   "source": [
    "df['model']=model.predict(X)"
   ]
  },
  {
   "cell_type": "markdown",
   "metadata": {},
   "source": [
    "### 4. Plot the model and the actual data on the Budget/Gross Domestic Product plane. (Remember this is just a slice of your n-dimensional space!)"
   ]
  },
  {
   "cell_type": "code",
   "execution_count": 125,
   "metadata": {},
   "outputs": [
    {
     "data": {
      "text/plain": [
       "<matplotlib.legend.Legend at 0x1073c4358>"
      ]
     },
     "execution_count": 125,
     "metadata": {},
     "output_type": "execute_result"
    },
    {
     "data": {
      "image/png": "[encoded data removed]",
      "text/plain": [
       "<Figure size 432x288 with 1 Axes>"
      ]
     },
     "metadata": {},
     "output_type": "display_data"
    }
   ],
   "source": [
    "plt.scatter(X.budget, Y, label = \"Actual Data\")\n",
    "plt.scatter(X.budget, df.model, label = 'Predictions')\n",
    "plt.legend()"
   ]
  },
  {
   "cell_type": "code",
   "execution_count": 132,
   "metadata": {},
   "outputs": [
    {
     "data": {
      "text/html": [
       "<div>\n",
       "<style scoped>\n",
       "    .dataframe tbody tr th:only-of-type {\n",
       "        vertical-align: middle;\n",
       "    }\n",
       "\n",
       "    .dataframe tbody tr th {\n",
       "        vertical-align: top;\n",
       "    }\n",
       "\n",
       "    .dataframe thead th {\n",
       "        text-align: right;\n",
       "    }\n",
       "</style>\n",
       "<table border=\"1\" class=\"dataframe\">\n",
       "  <thead>\n",
       "    <tr style=\"text-align: right;\">\n",
       "      <th></th>\n",
       "      <th>domgross</th>\n",
       "      <th>model</th>\n",
       "      <th>residual</th>\n",
       "      <th>percent_error</th>\n",
       "    </tr>\n",
       "  </thead>\n",
       "  <tbody>\n",
       "    <tr>\n",
       "      <th>0</th>\n",
       "      <td>25682380</td>\n",
       "      <td>2.568238e+07</td>\n",
       "      <td>0.017442</td>\n",
       "      <td>6.791306e-10</td>\n",
       "    </tr>\n",
       "    <tr>\n",
       "      <th>1</th>\n",
       "      <td>13414714</td>\n",
       "      <td>1.341471e+07</td>\n",
       "      <td>0.007947</td>\n",
       "      <td>5.924379e-10</td>\n",
       "    </tr>\n",
       "    <tr>\n",
       "      <th>2</th>\n",
       "      <td>53107035</td>\n",
       "      <td>5.310704e+07</td>\n",
       "      <td>0.007552</td>\n",
       "      <td>1.422050e-10</td>\n",
       "    </tr>\n",
       "    <tr>\n",
       "      <th>3</th>\n",
       "      <td>75612460</td>\n",
       "      <td>7.561246e+07</td>\n",
       "      <td>0.006404</td>\n",
       "      <td>8.469008e-11</td>\n",
       "    </tr>\n",
       "    <tr>\n",
       "      <th>4</th>\n",
       "      <td>95020213</td>\n",
       "      <td>9.502021e+07</td>\n",
       "      <td>0.013919</td>\n",
       "      <td>1.464896e-10</td>\n",
       "    </tr>\n",
       "  </tbody>\n",
       "</table>\n",
       "</div>"
      ],
      "text/plain": [
       "   domgross         model  residual  percent_error\n",
       "0  25682380  2.568238e+07  0.017442   6.791306e-10\n",
       "1  13414714  1.341471e+07  0.007947   5.924379e-10\n",
       "2  53107035  5.310704e+07  0.007552   1.422050e-10\n",
       "3  75612460  7.561246e+07  0.006404   8.469008e-11\n",
       "4  95020213  9.502021e+07  0.013919   1.464896e-10"
      ]
     },
     "execution_count": 132,
     "metadata": {},
     "output_type": "execute_result"
    }
   ],
   "source": [
    "df['residual'] = df.model - df.domgross\n",
    "df['percent_error'] = df.residual / df.domgross\n",
    "df[['domgross', 'model', 'residual', 'percent_error']].head()"
   ]
  },
  {
   "cell_type": "code",
   "execution_count": 135,
   "metadata": {},
   "outputs": [
    {
     "data": {
      "text/plain": [
       "0.007401278492775276"
      ]
     },
     "execution_count": 135,
     "metadata": {},
     "output_type": "execute_result"
    }
   ],
   "source": [
    "def rss(y,y_hat):\n",
    "    return sum((y_hat - y)**2)\n",
    "\n",
    "rss(df.domgross,df.model)"
   ]
  },
  {
   "cell_type": "markdown",
   "metadata": {},
   "source": [
    "### 5. What do you notice?"
   ]
  },
  {
   "cell_type": "markdown",
   "metadata": {},
   "source": [
    "##### THE DATA IS EXACTLY THE SAME AS THE PREDICTIONS, LIKELY DUE TO OVERFITTING\n",
    "\n",
    "Note: This box (like all the questions and headers) is formatted in Markdown. See a brief cheat sheet of [markdown syntax here](https://guides.github.com/pdfs/markdown-cheatsheet-online.pdf)!"
   ]
  },
  {
   "cell_type": "markdown",
   "metadata": {},
   "source": [
    "## Train Test Split\n",
    "\n",
    "Here lies the theoretical underpinnings for train test split. Essentially, we are trying to gauge the generalization error of our currently tuned model to future cases. (After all, that's the value of predictive models; to predict fturue states or occurences! By initially dividing our data into one set that we will optimize and train our models on, and a second hold out set that we later verify our models on but never tune them against, we can better judge how well our models will generalize to future cases outside of the scope of current observations."
   ]
  },
  {
   "cell_type": "markdown",
   "metadata": {},
   "source": [
    "### 6. Split your data (including all of those feature engineered columns) into two sets; train and test. In other words, instead of simply X and respective Y datasets, you will now have 4 subsets: X_train, y_train, X_test, and y_test."
   ]
  },
  {
   "cell_type": "code",
   "execution_count": 126,
   "metadata": {},
   "outputs": [],
   "source": [
    "from sklearn.model_selection import train_test_split"
   ]
  },
  {
   "cell_type": "code",
   "execution_count": 127,
   "metadata": {},
   "outputs": [],
   "source": [
    "X_train, X_test, y_train, y_test = train_test_split(X,Y)"
   ]
  },
  {
   "cell_type": "markdown",
   "metadata": {},
   "source": [
    "### 7. Train your model on the train set. [As before use RSS and gradient descent, but only use the training data.]"
   ]
  },
  {
   "cell_type": "code",
   "execution_count": 128,
   "metadata": {},
   "outputs": [
    {
     "data": {
      "text/plain": [
       "1.0"
      ]
     },
     "execution_count": 128,
     "metadata": {},
     "output_type": "execute_result"
    }
   ],
   "source": [
    "ols_train = LinearRegression()\n",
    "model_train = ols_train.fit(X_train,y_train)\n",
    "model_train.score(X_train,y_train)"
   ]
  },
  {
   "cell_type": "markdown",
   "metadata": {},
   "source": [
    "### 8. Evaluate your model on the test set."
   ]
  },
  {
   "cell_type": "code",
   "execution_count": 130,
   "metadata": {},
   "outputs": [
    {
     "data": {
      "text/plain": [
       "-175.70786741204623"
      ]
     },
     "execution_count": 130,
     "metadata": {},
     "output_type": "execute_result"
    }
   ],
   "source": [
    "model_train.score(X_test,y_test)"
   ]
  },
  {
   "cell_type": "markdown",
   "metadata": {},
   "source": [
    "## Bonus:   \n",
    "### Iterate over training size sets from 5%-95% of the total sample size and calculate both the training error (minimized rss) and the test error (rss) for each of these splits. Plot these two curves (train error vs. training size and test error vs. training size) on a graph. "
   ]
  },
  {
   "cell_type": "code",
   "execution_count": 180,
   "metadata": {},
   "outputs": [
    {
     "data": {
      "text/plain": [
       "<matplotlib.legend.Legend at 0x1a160ed668>"
      ]
     },
     "execution_count": 180,
     "metadata": {},
     "output_type": "execute_result"
    },
    {
     "data": {
      "image/png": "[encoded data removed]",
      "text/plain": [
       "<Figure size 432x288 with 1 Axes>"
      ]
     },
     "metadata": {},
     "output_type": "display_data"
    }
   ],
   "source": [
    "train_errs = []\n",
    "test_errs = []\n",
    "\n",
    "for i in range(5,100,5):\n",
    "    X_train, X_test, y_train, y_test = train_test_split(X,Y, test_size=i/100)\n",
    "    \n",
    "    ols_train = LinearRegression()\n",
    "    model_train = ols_train.fit(X_train,y_train)\n",
    "    y_hat_train = model_train.predict(X_train)\n",
    "    y_hat_test = model_train.predict(X_test)\n",
    "    \n",
    "    train_errs.append(rss(y_train,y_hat_train))\n",
    "    \n",
    "    test_errs.append(rss(y_test, y_hat_test))\n",
    "    \n",
    "plt.scatter(range(5,100,5),train_errs,label='training errors')\n",
    "plt.scatter(range(5,100,5),test_errs,label='test errors')\n",
    "plt.xlabel('Training Size')\n",
    "plt.ylabel('Errors')\n",
    "plt.legend()\n",
    "    "
   ]
  },
  {
   "cell_type": "code",
   "execution_count": null,
   "metadata": {},
   "outputs": [],
   "source": []
  },
  {
   "cell_type": "code",
   "execution_count": null,
   "metadata": {},
   "outputs": [],
   "source": []
  }
 ],
 "metadata": {
  "kernelspec": {
   "display_name": "Python 3",
   "language": "python",
   "name": "python3"
  },
  "language_info": {
   "codemirror_mode": {
    "name": "ipython",
    "version": 3
   },
   "file_extension": ".py",
   "mimetype": "text/x-python",
   "name": "python",
   "nbconvert_exporter": "python",
   "pygments_lexer": "ipython3",
   "version": "3.6.4"
  }
 },
 "nbformat": 4,
 "nbformat_minor": 2
}
